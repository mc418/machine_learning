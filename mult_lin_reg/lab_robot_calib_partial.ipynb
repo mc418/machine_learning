{
 "cells": [
  {
   "cell_type": "markdown",
   "metadata": {},
   "source": [
    "# Multiple Linear Regression for Robot Calibration\n",
    "\n",
    "In this lab, we will illustrate the use of multiple linear regression for calibrating robot control.  In addition to reviewing the concepts in the [multiple linear regression demo](./glucose.ipynb), you will see how to use multiple linear regression for time series data -- an important concept in dynamical systems such as robotics.\n",
    "\n",
    "The robot data for the lab is taken generously from the TU Dortmund's [Multiple Link Robot Arms Project](http://www.rst.e-technik.tu-dortmund.de/cms/en/research/robotics/TUDOR_engl/index.html).  As part of the project, they have created an excellent public dataset: [MERIt](http://www.rst.e-technik.tu-dortmund.de/cms/en/research/robotics/TUDOR_engl/index.html#h3MERIt) -- A Multi-Elastic-Link Robot Identification Dataset that can be used for understanding robot dynamics.  The data is from a three link robot:\n",
    "\n",
    "<img src=\"http://www.rst.e-technik.tu-dortmund.de/cms/Medienpool/redaktionelleBilder/Forschung/Schwerpunkte/TUDOR_engl/TUDORBild.png\" height=\"200\" width=\"200\">\n",
    "\n",
    "\n",
    "We will focus on predicting the current draw into one of the joints as a function of the robot motion.  Such models are essential in predicting the overall robot power consumption.  Several other models could also be used."
   ]
  },
  {
   "cell_type": "markdown",
   "metadata": {},
   "source": [
    "## Load and Visualize the Data\n",
    "First, import the modules we will need."
   ]
  },
  {
   "cell_type": "code",
   "execution_count": 2,
   "metadata": {
    "collapsed": true
   },
   "outputs": [],
   "source": [
    "import pandas as pd\n",
    "import numpy as np\n",
    "import matplotlib\n",
    "import matplotlib.pyplot as plt\n",
    "%matplotlib inline"
   ]
  },
  {
   "cell_type": "markdown",
   "metadata": {},
   "source": [
    "The full MERIt dataset can be obtained from the [MERIt site](http://www.rst.e-technik.tu-dortmund.de/cms/en/research/robotics/TUDOR_engl/index.html#h3MERIt).  But, this dataset is large.  Included in this repository are two of the ten experiments.  Each experiments corresonds to 80 seconds of recorded motion.  We will use the following files:\n",
    "* [exp1.csv](./exp1.csv) for training\n",
    "* [exp2.csv](./exp2.csv) for test\n",
    "\n",
    "Below, I have supplied the column headers in the `names` array.  Use the `pd.read_csv` command to load the data.  Use the `index_col` option to specify that column 0 (the one with time) is the *index* column.  You can review [simple linear regression demo](../simp_lin_reg/auto_mpg.ipynb) for examples of using the `pd.read_csv` command."
   ]
  },
  {
   "cell_type": "code",
   "execution_count": 3,
   "metadata": {
    "collapsed": true
   },
   "outputs": [],
   "source": [
    "names =[\n",
    "    't',                                  # Time (secs)\n",
    "    'q1', 'q2', 'q3',                     # Joint angle   (rads)\n",
    "    'dq1', 'dq2', 'dq3',                  # Joint velocity (rads/sec)\n",
    "    'I1', 'I2', 'I3',                     # Motor current (A)\n",
    "    'eps21', 'eps22', 'eps31', 'eps32',   # Strain gauge measurements ($\\mu$m /m )\n",
    "    'ddq1', 'ddq2', 'ddq3'                # Joint accelerations (rad/sec^2)\n",
    "]\n",
    "# TODO \n",
    "df = pd.read_csv('exp1.csv', index_col=0, names=names)\n"
   ]
  },
  {
   "cell_type": "markdown",
   "metadata": {},
   "source": [
    "Print the first six lines of the pandas dataframe and manually check that they match the first rows of the csv file."
   ]
  },
  {
   "cell_type": "code",
   "execution_count": 4,
   "metadata": {},
   "outputs": [
    {
     "data": {
      "text/html": [
       "<div>\n",
       "<style>\n",
       "    .dataframe thead tr:only-child th {\n",
       "        text-align: right;\n",
       "    }\n",
       "\n",
       "    .dataframe thead th {\n",
       "        text-align: left;\n",
       "    }\n",
       "\n",
       "    .dataframe tbody tr th {\n",
       "        vertical-align: top;\n",
       "    }\n",
       "</style>\n",
       "<table border=\"1\" class=\"dataframe\">\n",
       "  <thead>\n",
       "    <tr style=\"text-align: right;\">\n",
       "      <th></th>\n",
       "      <th>q1</th>\n",
       "      <th>q2</th>\n",
       "      <th>q3</th>\n",
       "      <th>dq1</th>\n",
       "      <th>dq2</th>\n",
       "      <th>dq3</th>\n",
       "      <th>I1</th>\n",
       "      <th>I2</th>\n",
       "      <th>I3</th>\n",
       "      <th>eps21</th>\n",
       "      <th>eps22</th>\n",
       "      <th>eps31</th>\n",
       "      <th>eps32</th>\n",
       "      <th>ddq1</th>\n",
       "      <th>ddq2</th>\n",
       "      <th>ddq3</th>\n",
       "    </tr>\n",
       "    <tr>\n",
       "      <th>t</th>\n",
       "      <th></th>\n",
       "      <th></th>\n",
       "      <th></th>\n",
       "      <th></th>\n",
       "      <th></th>\n",
       "      <th></th>\n",
       "      <th></th>\n",
       "      <th></th>\n",
       "      <th></th>\n",
       "      <th></th>\n",
       "      <th></th>\n",
       "      <th></th>\n",
       "      <th></th>\n",
       "      <th></th>\n",
       "      <th></th>\n",
       "      <th></th>\n",
       "    </tr>\n",
       "  </thead>\n",
       "  <tbody>\n",
       "    <tr>\n",
       "      <th>0.00</th>\n",
       "      <td>-0.000007</td>\n",
       "      <td>2.4958</td>\n",
       "      <td>-1.1345</td>\n",
       "      <td>-7.882100e-21</td>\n",
       "      <td>-4.940656e-321</td>\n",
       "      <td>3.913100e-29</td>\n",
       "      <td>-0.081623</td>\n",
       "      <td>-0.40812</td>\n",
       "      <td>-0.30609</td>\n",
       "      <td>-269.25</td>\n",
       "      <td>-113.20</td>\n",
       "      <td>3.5918</td>\n",
       "      <td>1.57860</td>\n",
       "      <td>-9.904900e-19</td>\n",
       "      <td>-6.210306e-319</td>\n",
       "      <td>4.917400e-27</td>\n",
       "    </tr>\n",
       "    <tr>\n",
       "      <th>0.01</th>\n",
       "      <td>-0.000007</td>\n",
       "      <td>2.4958</td>\n",
       "      <td>-1.1345</td>\n",
       "      <td>-2.258200e-21</td>\n",
       "      <td>-4.940656e-321</td>\n",
       "      <td>2.626200e-31</td>\n",
       "      <td>-0.037411</td>\n",
       "      <td>-0.37241</td>\n",
       "      <td>-0.26698</td>\n",
       "      <td>-270.91</td>\n",
       "      <td>-116.05</td>\n",
       "      <td>1.4585</td>\n",
       "      <td>-1.73980</td>\n",
       "      <td>4.248100e-19</td>\n",
       "      <td>-1.766878e-319</td>\n",
       "      <td>-1.381100e-27</td>\n",
       "    </tr>\n",
       "    <tr>\n",
       "      <th>0.02</th>\n",
       "      <td>-0.000007</td>\n",
       "      <td>2.4958</td>\n",
       "      <td>-1.1345</td>\n",
       "      <td>-6.469800e-22</td>\n",
       "      <td>-4.940656e-321</td>\n",
       "      <td>1.762500e-33</td>\n",
       "      <td>-0.066319</td>\n",
       "      <td>-0.40302</td>\n",
       "      <td>-0.31459</td>\n",
       "      <td>-269.25</td>\n",
       "      <td>-112.97</td>\n",
       "      <td>3.5918</td>\n",
       "      <td>0.86753</td>\n",
       "      <td>3.233800e-19</td>\n",
       "      <td>-4.990557e-320</td>\n",
       "      <td>-4.117300e-28</td>\n",
       "    </tr>\n",
       "    <tr>\n",
       "      <th>0.03</th>\n",
       "      <td>-0.000007</td>\n",
       "      <td>2.4958</td>\n",
       "      <td>-1.1345</td>\n",
       "      <td>-1.853600e-22</td>\n",
       "      <td>-4.940656e-321</td>\n",
       "      <td>1.182800e-35</td>\n",
       "      <td>-0.068020</td>\n",
       "      <td>-0.43703</td>\n",
       "      <td>-0.28398</td>\n",
       "      <td>-269.97</td>\n",
       "      <td>-114.39</td>\n",
       "      <td>1.6956</td>\n",
       "      <td>-0.08059</td>\n",
       "      <td>1.500500e-19</td>\n",
       "      <td>-1.394253e-320</td>\n",
       "      <td>-1.173100e-28</td>\n",
       "    </tr>\n",
       "    <tr>\n",
       "      <th>0.04</th>\n",
       "      <td>-0.000007</td>\n",
       "      <td>2.4958</td>\n",
       "      <td>-1.1345</td>\n",
       "      <td>-5.310600e-23</td>\n",
       "      <td>-4.940656e-321</td>\n",
       "      <td>-5.270900e-03</td>\n",
       "      <td>-0.052715</td>\n",
       "      <td>-0.40472</td>\n",
       "      <td>-0.30779</td>\n",
       "      <td>-269.97</td>\n",
       "      <td>-114.15</td>\n",
       "      <td>3.1177</td>\n",
       "      <td>0.86753</td>\n",
       "      <td>5.932400e-20</td>\n",
       "      <td>-3.581976e-321</td>\n",
       "      <td>-3.770800e-01</td>\n",
       "    </tr>\n",
       "    <tr>\n",
       "      <th>0.05</th>\n",
       "      <td>-0.000007</td>\n",
       "      <td>2.4958</td>\n",
       "      <td>-1.1345</td>\n",
       "      <td>-1.521500e-23</td>\n",
       "      <td>-4.940656e-321</td>\n",
       "      <td>3.252600e-04</td>\n",
       "      <td>-0.088425</td>\n",
       "      <td>-0.42342</td>\n",
       "      <td>-0.29589</td>\n",
       "      <td>-269.25</td>\n",
       "      <td>-114.15</td>\n",
       "      <td>2.4066</td>\n",
       "      <td>-0.08059</td>\n",
       "      <td>2.164600e-20</td>\n",
       "      <td>-1.141292e-321</td>\n",
       "      <td>2.930300e-01</td>\n",
       "    </tr>\n",
       "  </tbody>\n",
       "</table>\n",
       "</div>"
      ],
      "text/plain": [
       "            q1      q2      q3           dq1            dq2           dq3  \\\n",
       "t                                                                           \n",
       "0.00 -0.000007  2.4958 -1.1345 -7.882100e-21 -4.940656e-321  3.913100e-29   \n",
       "0.01 -0.000007  2.4958 -1.1345 -2.258200e-21 -4.940656e-321  2.626200e-31   \n",
       "0.02 -0.000007  2.4958 -1.1345 -6.469800e-22 -4.940656e-321  1.762500e-33   \n",
       "0.03 -0.000007  2.4958 -1.1345 -1.853600e-22 -4.940656e-321  1.182800e-35   \n",
       "0.04 -0.000007  2.4958 -1.1345 -5.310600e-23 -4.940656e-321 -5.270900e-03   \n",
       "0.05 -0.000007  2.4958 -1.1345 -1.521500e-23 -4.940656e-321  3.252600e-04   \n",
       "\n",
       "            I1       I2       I3   eps21   eps22   eps31    eps32  \\\n",
       "t                                                                   \n",
       "0.00 -0.081623 -0.40812 -0.30609 -269.25 -113.20  3.5918  1.57860   \n",
       "0.01 -0.037411 -0.37241 -0.26698 -270.91 -116.05  1.4585 -1.73980   \n",
       "0.02 -0.066319 -0.40302 -0.31459 -269.25 -112.97  3.5918  0.86753   \n",
       "0.03 -0.068020 -0.43703 -0.28398 -269.97 -114.39  1.6956 -0.08059   \n",
       "0.04 -0.052715 -0.40472 -0.30779 -269.97 -114.15  3.1177  0.86753   \n",
       "0.05 -0.088425 -0.42342 -0.29589 -269.25 -114.15  2.4066 -0.08059   \n",
       "\n",
       "              ddq1           ddq2          ddq3  \n",
       "t                                                \n",
       "0.00 -9.904900e-19 -6.210306e-319  4.917400e-27  \n",
       "0.01  4.248100e-19 -1.766878e-319 -1.381100e-27  \n",
       "0.02  3.233800e-19 -4.990557e-320 -4.117300e-28  \n",
       "0.03  1.500500e-19 -1.394253e-320 -1.173100e-28  \n",
       "0.04  5.932400e-20 -3.581976e-321 -3.770800e-01  \n",
       "0.05  2.164600e-20 -1.141292e-321  2.930300e-01  "
      ]
     },
     "execution_count": 4,
     "metadata": {},
     "output_type": "execute_result"
    }
   ],
   "source": [
    "# TODO\n",
    "df.head(6)"
   ]
  },
  {
   "cell_type": "markdown",
   "metadata": {},
   "source": [
    "From the dataframe `df`, extract the time indices into a vector `t` and extract `I2`, the current into the second joint.  Place the current in a vector `y` and plot `y` vs. `t`.  "
   ]
  },
  {
   "cell_type": "code",
   "execution_count": 5,
   "metadata": {},
   "outputs": [
    {
     "data": {
      "image/png": "[encoded data removed]",
      "text/plain": [
       "<matplotlib.figure.Figure at 0x117d25390>"
      ]
     },
     "metadata": {},
     "output_type": "display_data"
    }
   ],
   "source": [
    "# TODO\n",
    "# y = ...\n",
    "# t = ...\n",
    "# plt.plot(...)\n",
    "y = np.array(df['I2'])\n",
    "t = np.array(df.index)\n",
    "plt.plot(t,y)\n",
    "plt.xlabel('t')\n",
    "plt.ylabel('I2')\n",
    "plt.grid(True)"
   ]
  },
  {
   "cell_type": "markdown",
   "metadata": {},
   "source": [
    "Use all the samples from the experiment 1 dataset to create the training data:\n",
    "* `ytrain`:  A vector of all the samples from the `I2` column\n",
    "* `Xtrain`:  A matrix of the data with the columns:  `['q2','dq2','eps21', 'eps22', 'eps31', 'eps32','ddq2']`"
   ]
  },
  {
   "cell_type": "code",
   "execution_count": 6,
   "metadata": {
    "collapsed": true
   },
   "outputs": [],
   "source": [
    "# TODO\n",
    "# ytrain = ...\n",
    "# Xtrain = ...\n",
    "ytrain = np.array(df['I2'])\n",
    "Xtrain = np.array(df[['q2','dq2','eps21', 'eps22', 'eps31', 'eps32','ddq2']])\n"
   ]
  },
  {
   "cell_type": "markdown",
   "metadata": {},
   "source": [
    "## Fit a Linear Model\n",
    "Use the `sklearn.linear_model` module to create a `LinearRegression` class `regr`."
   ]
  },
  {
   "cell_type": "code",
   "execution_count": 7,
   "metadata": {
    "collapsed": true
   },
   "outputs": [],
   "source": [
    "from sklearn import linear_model\n",
    "\n",
    "# Create linear regression object\n",
    "# TODO\n",
    "# regr = ...\n",
    "regr = linear_model.LinearRegression()"
   ]
  },
  {
   "cell_type": "markdown",
   "metadata": {},
   "source": [
    "Train the model on the training data using the `regr.fit(...)` method."
   ]
  },
  {
   "cell_type": "code",
   "execution_count": 8,
   "metadata": {},
   "outputs": [
    {
     "data": {
      "text/plain": [
       "LinearRegression(copy_X=True, fit_intercept=True, n_jobs=1, normalize=False)"
      ]
     },
     "execution_count": 8,
     "metadata": {},
     "output_type": "execute_result"
    }
   ],
   "source": [
    "# TODO\n",
    "regr.fit(Xtrain, ytrain)"
   ]
  },
  {
   "cell_type": "markdown",
   "metadata": {},
   "source": [
    "Plot the predicted and actual current `I2` over time on the same plot.  Create a legend for the plot."
   ]
  },
  {
   "cell_type": "code",
   "execution_count": 9,
   "metadata": {
    "scrolled": false
   },
   "outputs": [
    {
     "data": {
      "text/plain": [
       "<matplotlib.legend.Legend at 0x11dbb5d68>"
      ]
     },
     "execution_count": 9,
     "metadata": {},
     "output_type": "execute_result"
    },
    {
     "data": {
      "image/png": "[encoded data removed]",
      "text/plain": [
       "<matplotlib.figure.Figure at 0x117d14470>"
      ]
     },
     "metadata": {},
     "output_type": "display_data"
    }
   ],
   "source": [
    "# TODO\n",
    "# plt.plot([-1,1],[-1,1],'r')\n",
    "y_tr_pred = regr.predict(Xtrain)\n",
    "# plt.scatter(ytrain, y_tr_pred)\n",
    "plt.xlabel('Time(secs)')\n",
    "plt.ylabel('Motor current I2(A)')\n",
    "plt.grid()\n",
    "plt.plot(t, ytrain)\n",
    "plt.plot(t, y_tr_pred)\n",
    "plt.legend(['Predicted', 'Actual'])\n"
   ]
  },
  {
   "cell_type": "markdown",
   "metadata": {},
   "source": [
    "Measure the normalized RSS given by \n",
    "$$\n",
    "    \\frac{RSS}{n s^2_y}.\n",
    "$$"
   ]
  },
  {
   "cell_type": "code",
   "execution_count": 10,
   "metadata": {},
   "outputs": [
    {
     "name": "stdout",
     "output_type": "stream",
     "text": [
      "RSS per sample = 0.095833\n",
      "R^2 =            0.904167\n"
     ]
    }
   ],
   "source": [
    "# TODO\n",
    "# RSS_train = ...\n",
    "RSS_train = np.mean((y_tr_pred-ytrain)**2)/(np.std(ytrain)**2)\n",
    "Rsq_train = 1-RSS_train\n",
    "print(\"RSS per sample = {0:f}\".format(RSS_train))\n",
    "print(\"R^2 =            {0:f}\".format(Rsq_train))"
   ]
  },
  {
   "cell_type": "markdown",
   "metadata": {},
   "source": [
    "## Measure the Fit on an Indepdent Dataset\n",
    "\n",
    "Load the data in `exp2.csv`.  Compute the regression predicted values on this data and plot the predicted and actual values over time."
   ]
  },
  {
   "cell_type": "code",
   "execution_count": 10,
   "metadata": {},
   "outputs": [
    {
     "data": {
      "image/png": "[encoded data removed]",
      "text/plain": [
       "<matplotlib.figure.Figure at 0x11db2ef98>"
      ]
     },
     "metadata": {},
     "output_type": "display_data"
    }
   ],
   "source": [
    "# TODO\n",
    "names =[\n",
    "    't',                                  # Time (secs)\n",
    "    'q1', 'q2', 'q3',                     # Joint angle   (rads)\n",
    "    'dq1', 'dq2', 'dq3',                  # Joint velocity (rads/sec)\n",
    "    'I1', 'I2', 'I3',                     # Motor current (A)\n",
    "    'eps21', 'eps22', 'eps31', 'eps32',   # Strain gauge measurements ($\\mu$m /m )\n",
    "    'ddq1', 'ddq2', 'ddq3'                # Joint accelerations (rad/sec^2)\n",
    "]\n",
    "\n",
    "df1 = pd.read_csv('exp2.csv', index_col=0, names=names)\n",
    "df1.head(6)\n",
    "y_test = np.array(df1['I2'])\n",
    "X_test = np.array(df1[['q2','dq2','eps21', 'eps22', 'eps31', 'eps32','ddq2']])\n",
    "y_test_pred = regr.predict(X_test)\n",
    "plt.plot(t, y_test)\n",
    "plt.plot(t, y_test_pred)\n",
    "plt.xlabel('Time(secs)')\n",
    "plt.ylabel('Motor current I2(A)')\n",
    "plt.legend(['Predicted', 'Actual'])\n",
    "plt.grid()"
   ]
  },
  {
   "cell_type": "markdown",
   "metadata": {},
   "source": [
    "Measure the normalized RSS on the test data.  Is it substantially higher than the training data?"
   ]
  },
  {
   "cell_type": "code",
   "execution_count": 11,
   "metadata": {
    "collapsed": true
   },
   "outputs": [],
   "source": [
    "# TODO"
   ]
  },
  {
   "cell_type": "code",
   "execution_count": 12,
   "metadata": {},
   "outputs": [
    {
     "name": "stdout",
     "output_type": "stream",
     "text": [
      "RSS per sample = 0.126780\n",
      "R^2 =            0.873220\n"
     ]
    }
   ],
   "source": [
    "RSS_test = np.mean((y_test_pred-y_test)**2)/(np.std(y_test)**2)\n",
    "Rsq_test = 1-RSS_test\n",
    "print(\"RSS per sample = {0:f}\".format(RSS_test))\n",
    "print(\"R^2 =            {0:f}\".format(Rsq_test))"
   ]
  },
  {
   "cell_type": "code",
   "execution_count": 13,
   "metadata": {
    "collapsed": true
   },
   "outputs": [],
   "source": [
    "# the RSS of test data is higher than training data"
   ]
  },
  {
   "cell_type": "code",
   "execution_count": null,
   "metadata": {
    "collapsed": true
   },
   "outputs": [],
   "source": []
  }
 ],
 "metadata": {
  "anaconda-cloud": {},
  "kernelspec": {
   "display_name": "Python 3",
   "language": "python",
   "name": "python3"
  },
  "language_info": {
   "codemirror_mode": {
    "name": "ipython",
    "version": 3
   },
   "file_extension": ".py",
   "mimetype": "text/x-python",
   "name": "python",
   "nbconvert_exporter": "python",
   "pygments_lexer": "ipython3",
   "version": "3.6.1"
  }
 },
 "nbformat": 4,
 "nbformat_minor": 1
}
