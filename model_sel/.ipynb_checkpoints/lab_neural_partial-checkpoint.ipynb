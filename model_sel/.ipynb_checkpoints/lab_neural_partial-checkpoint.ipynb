{
 "cells": [
  {
   "cell_type": "markdown",
   "metadata": {},
   "source": [
    "# Lab:  Model Selection for Neural Data\n",
    "\n",
    "Machine learning is a key tool for neuroscientists to understand how sensory and motor signals are encoded in the brain. In addition to improving our scientific understanding of neural phenomena, understanding neural encoding is critical for brain machine interfaces. In this lab, you will use model selection for performing some simple analysis on real neural signals. \n",
    "\n",
    "Before doing this lab, you should review the ideas in the [polynomial model selection demo](./polyfit.ipynb).  In addition to the concepts in that demo, you will learn to:\n",
    "* Load MATLAB data\n",
    "* Formulate models of different complexities using heuristic model selection\n",
    "* Fit a linear model for the different model orders\n",
    "* Select the optimal model via cross-validation\n",
    "\n",
    "The last stage of the lab uses LASSO estimation for model selection.  If you are doing this part of the lab, you should review the concepts in [LASSO demonstration](./prostate.ipynb) on the prostate cancer  dataset.  "
   ]
  },
  {
   "cell_type": "markdown",
   "metadata": {},
   "source": [
    "## Loading the data\n",
    "\n",
    "The data in this lab comes from neural recordings described in:\n",
    "\n",
    "<a href=\"http://jn.physiology.org/content/106/2/764.short\">\n",
    "Stevenson, Ian H., et al. \"Statistical assessment of the stability of neural movement representations.\" Journal of neurophysiology 106.2 (2011): 764-774</a>\n",
    "\n",
    "Neurons are the basic information processing units in the brain.  Neurons communicate with one another via *spikes* or *action potentials* which are brief events where voltage in the neuron rapidly rises then falls.  These spikes trigger the electro-chemical signals between one neuron and another.  In this experiment, the spikes were recorded from 196 neurons in the primary motor cortex (M1) of a monkey using an electrode array implanted onto the surface of a monkey's brain.  During the recording, the monkey performed several reaching tasks and the position and velocity of the hand was recorded as well.  \n",
    "\n",
    "The goal of the experiment is to try to *read the monkey's brain*:  That is, predict the hand motion from the neural signals from the motor cortex.\n",
    "\n",
    "We first load the basic packages."
   ]
  },
  {
   "cell_type": "code",
   "execution_count": 58,
   "metadata": {
    "collapsed": true
   },
   "outputs": [],
   "source": [
    "import numpy as np\n",
    "import matplotlib\n",
    "import matplotlib.pyplot as plt\n",
    "%matplotlib inline"
   ]
  },
  {
   "cell_type": "markdown",
   "metadata": {},
   "source": [
    "The full data is available on the CRCNS website  http://crcns.org/data-sets/movements/dream.  This website has a large number of great datasets and can be used for projects as well.  To make this lab easier, I have pre-processed the data slightly and placed it in the file `StevensonV2.mat`, which is a MATLAB file.  You will need to have this file downloaded in the directory you are working on.\n",
    "\n",
    "Since MATLAB is widely-used, `python` provides method for loading MATLAB `mat` files.  We can use these commands to load the data as follows."
   ]
  },
  {
   "cell_type": "code",
   "execution_count": 59,
   "metadata": {
    "collapsed": true
   },
   "outputs": [],
   "source": [
    "import scipy.io\n",
    "mat_dict = scipy.io.loadmat('StevensonV2.mat')"
   ]
  },
  {
   "cell_type": "markdown",
   "metadata": {},
   "source": [
    "The returned structure, `mat_dict`, is a dictionary with each of the MATLAB variables that were saved in the `.mat` file.  Use the `.keys()` method to list all the variables."
   ]
  },
  {
   "cell_type": "code",
   "execution_count": 60,
   "metadata": {},
   "outputs": [
    {
     "data": {
      "text/plain": [
       "dict_keys(['__header__', '__version__', '__globals__', 'Publication', 'timeBase', 'spikes', 'time', 'handVel', 'handPos', 'target', 'startBins', 'targets', 'startBinned'])"
      ]
     },
     "execution_count": 60,
     "metadata": {},
     "output_type": "execute_result"
    }
   ],
   "source": [
    "#TODO\n",
    "mat_dict.keys()"
   ]
  },
  {
   "cell_type": "markdown",
   "metadata": {},
   "source": [
    "We extract two variables, `spikes` and `handVel`, from the dictionary `mat_dict`, which represent the recorded spikes per neuron and the hand velocity.  We take the transpose of the spikes data so that it is in the form time bins $\\times$ number of neurons.  For the `handVel` data, we take the first component which is the motion in the $x$-direction."
   ]
  },
  {
   "cell_type": "code",
   "execution_count": 61,
   "metadata": {
    "scrolled": true
   },
   "outputs": [
    {
     "name": "stdout",
     "output_type": "stream",
     "text": [
      "15536\n"
     ]
    }
   ],
   "source": [
    "X0 = mat_dict['spikes'].T\n",
    "y0 = mat_dict['handVel'][0,:]\n",
    "print(y0.shape[0])"
   ]
  },
  {
   "cell_type": "markdown",
   "metadata": {},
   "source": [
    "The `spikes` matrix will be a `nt x nneuron` matrix where `nt` is the number of time bins and `nneuron` is the number of neurons.  Each entry `spikes[k,j]` is the number of spikes in time bin `k` from neuron `j`.  Use the `shape` method to find `nt` and `nneuron` and print the values."
   ]
  },
  {
   "cell_type": "markdown",
   "metadata": {},
   "source": [
    "You should see that the test error is enormous -- the model does not generalize to the test data at all. "
   ]
  },
  {
   "cell_type": "code",
   "execution_count": 62,
   "metadata": {},
   "outputs": [
    {
     "name": "stdout",
     "output_type": "stream",
     "text": [
      "num of time bins = 15536,  num of neurons = 196\n"
     ]
    }
   ],
   "source": [
    "# TODO \n",
    "nt = X0.shape[0]\n",
    "nneuron = X0.shape[1]\n",
    "print(\"num of time bins = %d,  num of neurons = %d\" % (nt, nneuron))"
   ]
  },
  {
   "cell_type": "markdown",
   "metadata": {},
   "source": [
    "Now extract the `time` variable from the `mat_dict` dictionary.  Reshape this to a 1D array with `nt` components.  Each entry `time[k]` is the starting time of the time bin `k`.  Find the sampling time `tsamp` which is the time between measurements, and `ttotal` which is the total duration of the recording."
   ]
  },
  {
   "cell_type": "code",
   "execution_count": 63,
   "metadata": {},
   "outputs": [
    {
     "name": "stdout",
     "output_type": "stream",
     "text": [
      "[  12.591   12.641   12.691 ...,  789.241  789.291  789.341]\n",
      "[ 0.05  0.05  0.05 ...,  0.05  0.05  0.05]\n",
      "6229407.6895\n"
     ]
    }
   ],
   "source": [
    "# TODO\n",
    "import sklearn\n",
    "time = mat_dict['time']\n",
    "time = time.ravel()\n",
    "tsamp = np.ediff1d(time)\n",
    "ttotal = np.sum(time)\n",
    "print(time)\n",
    "print(tsamp)\n",
    "print(ttotal)"
   ]
  },
  {
   "cell_type": "markdown",
   "metadata": {},
   "source": [
    "## Linear fitting on all the neurons\n",
    "\n",
    "First divide the data into training and test with approximately half the samples in each.  Let `Xtr` and `ytr` denote the training data and `Xts` and `yts` denote the test data."
   ]
  },
  {
   "cell_type": "code",
   "execution_count": 95,
   "metadata": {},
   "outputs": [],
   "source": [
    "# TODO\n",
    "# Xtr = ...\n",
    "# ytr = ...\n",
    "# Xts = ...\n",
    "# yts = ...\n",
    "\n",
    "Xtr = np.array(X0) // 2\n",
    "Xts = np.array(X0) - Xtr\n",
    "ytr = y0 // 2\n",
    "yts = y0 - ytr"
   ]
  },
  {
   "cell_type": "markdown",
   "metadata": {},
   "source": [
    "Now, we begin by trying to fit a simple linear model using *all* the neurons as predictors.  To this end, use the `sklearn.linear_model` package to create a regression object, and fit the linear model to the training data."
   ]
  },
  {
   "cell_type": "code",
   "execution_count": 65,
   "metadata": {},
   "outputs": [
    {
     "data": {
      "text/plain": [
       "LinearRegression(copy_X=True, fit_intercept=True, n_jobs=1, normalize=False)"
      ]
     },
     "execution_count": 65,
     "metadata": {},
     "output_type": "execute_result"
    }
   ],
   "source": [
    "import sklearn.linear_model\n",
    "\n",
    "# TODO\n",
    "regr = sklearn.linear_model.LinearRegression()\n",
    "regr.fit(Xtr, ytr)"
   ]
  },
  {
   "cell_type": "markdown",
   "metadata": {},
   "source": [
    "Measure and print the normalized RSS on the test data.  "
   ]
  },
  {
   "cell_type": "code",
   "execution_count": 67,
   "metadata": {},
   "outputs": [
    {
     "name": "stdout",
     "output_type": "stream",
     "text": [
      "RSS per sample = 4793030409756568715264.000000\n",
      "R^2 = -4793030409756568715264.000000\n"
     ]
    }
   ],
   "source": [
    "# TODO\n",
    "y_test_pred = regr.predict(Xts)\n",
    "RSS_test = np.mean((y_test_pred-yts)**2)/(np.std(yts)**2)\n",
    "Rsq_test = 1-RSS_test\n",
    "print(\"RSS per sample = {0:f}\".format(RSS_test))\n",
    "print(\"R^2 = {0:f}\".format(Rsq_test))\n"
   ]
  },
  {
   "cell_type": "markdown",
   "metadata": {},
   "source": [
    "## Linear Fitting  with Heuristic Model Selection\n",
    "\n",
    "The above shows that we need a way to reduce the model complexity.  One simple idea is to select only the neurons that individually have a high correlation with the output.   \n",
    "\n",
    "Write code which computes the coefficient of determination, $R^2_k$, for each neuron $k$.  Plot the $R^2_k$ values.  \n",
    "\n",
    "You can use a for loop over each neuron, but if you want to make efficient code try to avoid the for loop and use [python broadcasting](../Basics/numpy_axes_broadcasting.ipynb)."
   ]
  },
  {
   "cell_type": "code",
   "execution_count": 10,
   "metadata": {},
   "outputs": [
    {
     "name": "stdout",
     "output_type": "stream",
     "text": [
      " 0  Rsq=0.006049\n",
      " 1  Rsq=0.017449\n",
      " 2  Rsq=0.017310\n",
      " 3  Rsq=0.014403\n",
      " 4  Rsq=0.013202\n",
      " 5  Rsq=0.000047\n",
      " 6  Rsq=0.026373\n",
      " 7  Rsq=0.000008\n",
      " 8  Rsq=0.000226\n",
      " 9  Rsq=0.000082\n",
      "10  Rsq=0.000698\n",
      "11  Rsq=0.000221\n",
      "12  Rsq=0.000438\n",
      "13  Rsq=0.000002\n",
      "14  Rsq=0.003749\n",
      "15  Rsq=0.000232\n",
      "16  Rsq=0.000438\n",
      "17  Rsq=0.000081\n",
      "18  Rsq=0.000427\n",
      "19  Rsq=0.000002\n",
      "20  Rsq=0.005763\n",
      "21  Rsq=0.000008\n",
      "22  Rsq=0.009351\n",
      "23  Rsq=0.001622\n",
      "24  Rsq=0.000000\n",
      "25  Rsq=0.000202\n",
      "26  Rsq=0.000149\n",
      "27  Rsq=0.000133\n",
      "28  Rsq=0.000011\n",
      "29  Rsq=0.011838\n",
      "30  Rsq=0.006994\n",
      "31  Rsq=0.000054\n",
      "32  Rsq=0.000048\n",
      "33  Rsq=0.000013\n",
      "34  Rsq=0.000000\n",
      "35  Rsq=0.005588\n",
      "36  Rsq=0.011034\n",
      "37  Rsq=0.000008\n",
      "38  Rsq=0.000161\n",
      "39  Rsq=0.001175\n",
      "40  Rsq=0.000047\n",
      "41  Rsq=0.000000\n",
      "42  Rsq=0.001871\n",
      "43  Rsq=0.018205\n",
      "44  Rsq=0.006378\n",
      "45  Rsq=0.001970\n",
      "46  Rsq=0.000140\n",
      "47  Rsq=0.000926\n",
      "48  Rsq=0.000001\n",
      "49  Rsq=0.000731\n",
      "50  Rsq=0.001064\n",
      "51  Rsq=0.000006\n",
      "52  Rsq=0.004139\n",
      "53  Rsq=0.000512\n",
      "54  Rsq=0.003184\n",
      "55  Rsq=0.002781\n",
      "56  Rsq=0.000032\n",
      "57  Rsq=0.000030\n",
      "58  Rsq=0.084733\n",
      "59  Rsq=0.001594\n",
      "60  Rsq=0.001124\n",
      "61  Rsq=0.024546\n",
      "62  Rsq=0.000178\n",
      "63  Rsq=0.000049\n",
      "64  Rsq=0.001727\n",
      "65  Rsq=0.002048\n",
      "66  Rsq=0.008399\n",
      "67  Rsq=0.057849\n",
      "68  Rsq=0.002292\n",
      "69  Rsq=0.001084\n",
      "70  Rsq=0.000058\n",
      "71  Rsq=0.001408\n",
      "72  Rsq=0.000004\n",
      "73  Rsq=0.000852\n",
      "74  Rsq=0.000006\n",
      "75  Rsq=0.000751\n",
      "76  Rsq=0.000086\n",
      "77  Rsq=0.000532\n",
      "78  Rsq=0.000016\n",
      "79  Rsq=0.001977\n",
      "80  Rsq=0.029364\n",
      "81  Rsq=0.000013\n",
      "82  Rsq=0.000000\n",
      "83  Rsq=0.001138\n",
      "84  Rsq=0.009751\n",
      "85  Rsq=0.000007\n",
      "86  Rsq=0.001297\n",
      "87  Rsq=0.003312\n",
      "88  Rsq=0.000615\n",
      "89  Rsq=0.000010\n",
      "90  Rsq=0.000198\n",
      "91  Rsq=0.000141\n",
      "92  Rsq=0.000008\n",
      "93  Rsq=0.000454\n",
      "94  Rsq=0.000021\n",
      "95  Rsq=0.000203\n",
      "96  Rsq=0.000113\n",
      "97  Rsq=0.001216\n",
      "98  Rsq=0.041412\n",
      "99  Rsq=0.000171\n",
      "100  Rsq=0.013749\n",
      "101  Rsq=0.000050\n",
      "102  Rsq=0.000506\n",
      "103  Rsq=0.007248\n",
      "104  Rsq=0.000006\n",
      "105  Rsq=0.000091\n",
      "106  Rsq=0.000092\n",
      "107  Rsq=0.000495\n",
      "108  Rsq=0.000760\n",
      "109  Rsq=0.001632\n",
      "110  Rsq=0.004300\n",
      "111  Rsq=0.006488\n",
      "112  Rsq=0.000781\n",
      "113  Rsq=0.000065\n",
      "114  Rsq=0.005248\n",
      "115  Rsq=0.001521\n",
      "116  Rsq=0.000404\n",
      "117  Rsq=0.005194\n",
      "118  Rsq=0.000107\n",
      "119  Rsq=0.000274\n",
      "120  Rsq=0.043481\n",
      "121  Rsq=0.000208\n"
     ]
    },
    {
     "name": "stderr",
     "output_type": "stream",
     "text": [
      "/Users/Apple/anaconda3/lib/python3.6/site-packages/ipykernel_launcher.py:13: RuntimeWarning: invalid value encountered in double_scalars\n",
      "  del sys.path[0]\n",
      "/Users/Apple/anaconda3/lib/python3.6/site-packages/ipykernel_launcher.py:15: RuntimeWarning: invalid value encountered in double_scalars\n",
      "  from ipykernel import kernelapp as app\n"
     ]
    },
    {
     "name": "stdout",
     "output_type": "stream",
     "text": [
      "122  Rsq=nan\n",
      "123  Rsq=0.000251\n",
      "124  Rsq=0.000239\n",
      "125  Rsq=0.003851\n",
      "126  Rsq=0.015655\n",
      "127  Rsq=0.002613\n",
      "128  Rsq=0.018871\n",
      "129  Rsq=0.004513\n",
      "130  Rsq=0.000000\n",
      "131  Rsq=0.000161\n",
      "132  Rsq=0.001233\n",
      "133  Rsq=0.002636\n",
      "134  Rsq=0.011346\n",
      "135  Rsq=0.003845\n",
      "136  Rsq=0.062266\n",
      "137  Rsq=0.007324\n",
      "138  Rsq=0.000570\n",
      "139  Rsq=0.000015\n",
      "140  Rsq=0.000891\n",
      "141  Rsq=0.005568\n",
      "142  Rsq=0.006446\n",
      "143  Rsq=0.000384\n",
      "144  Rsq=0.019351\n",
      "145  Rsq=0.027149\n",
      "146  Rsq=0.005472\n",
      "147  Rsq=0.008138\n",
      "148  Rsq=0.002579\n",
      "149  Rsq=0.002082\n",
      "150  Rsq=0.009285\n",
      "151  Rsq=0.012662\n",
      "152  Rsq=0.076110\n",
      "153  Rsq=0.062699\n",
      "154  Rsq=0.026915\n",
      "155  Rsq=0.022048\n",
      "156  Rsq=0.000025\n",
      "157  Rsq=0.000176\n",
      "158  Rsq=0.028348\n",
      "159  Rsq=0.000003\n",
      "160  Rsq=0.000199\n",
      "161  Rsq=0.000240\n",
      "162  Rsq=0.008190\n",
      "163  Rsq=0.000027\n",
      "164  Rsq=0.000006\n",
      "165  Rsq=0.000050\n",
      "166  Rsq=0.004791\n",
      "167  Rsq=0.015360\n",
      "168  Rsq=0.008925\n",
      "169  Rsq=0.000566\n",
      "170  Rsq=0.004922\n",
      "171  Rsq=0.000000\n",
      "172  Rsq=0.016245\n",
      "173  Rsq=0.000024\n",
      "174  Rsq=0.000001\n",
      "175  Rsq=0.000253\n",
      "176  Rsq=0.004500\n",
      "177  Rsq=0.000005\n",
      "178  Rsq=0.004516\n",
      "179  Rsq=0.002839\n",
      "180  Rsq=0.000009\n",
      "181  Rsq=0.000033\n",
      "182  Rsq=0.016409\n",
      "183  Rsq=0.008125\n",
      "184  Rsq=0.000704\n",
      "185  Rsq=0.000267\n",
      "186  Rsq=0.001975\n",
      "187  Rsq=0.001295\n",
      "188  Rsq=0.016119\n",
      "189  Rsq=0.001894\n",
      "190  Rsq=0.004888\n",
      "191  Rsq=0.000049\n",
      "192  Rsq=0.210846\n",
      "193  Rsq=0.031629\n",
      "194  Rsq=0.000219\n",
      "195  Rsq=0.041982\n"
     ]
    },
    {
     "data": {
      "image/png": "[encoded data removed]",
      "text/plain": [
       "<matplotlib.figure.Figure at 0x103c469b0>"
      ]
     },
     "metadata": {},
     "output_type": "display_data"
    }
   ],
   "source": [
    "# TODO\n",
    "# Rsq = ...\n",
    "# plt.stem(...)\n",
    "ym = np.mean(y0)\n",
    "syy = np.mean((y0-ym)**2)\n",
    "Rsq = np.zeros(nneuron)\n",
    "beta0 = np.zeros(nneuron)\n",
    "beta1 = np.zeros(nneuron)\n",
    "for k in range(nneuron):\n",
    "    xm = np.mean(X0[:,k])\n",
    "    sxy = np.mean((X0[:,k]-xm)*(y0-ym))\n",
    "    sxx = np.mean((X0[:,k]-xm)**2)\n",
    "    beta1[k] = sxy/sxx\n",
    "    beta0[k] = ym - beta1[k]*xm\n",
    "    Rsq[k] = (sxy)**2/sxx/syy\n",
    "    plt.stem(Rsq)\n",
    "    print(\"{0:2d}  Rsq={1:f}\".format(k,Rsq[k]))\n"
   ]
  },
  {
   "cell_type": "markdown",
   "metadata": {},
   "source": [
    "We see that many neurons have low correlation and can probably be discarded from the model.    \n",
    "\n",
    "Use the `np.argsort()` command to find the indices of the `d=100` neurons with the highest $R^2_k$ value.  Put the `d` indices into an array `Isel`.  Print the indices of the neurons with the 10 highest correlations."
   ]
  },
  {
   "cell_type": "code",
   "execution_count": 68,
   "metadata": {},
   "outputs": [
    {
     "name": "stdout",
     "output_type": "stream",
     "text": [
      "The neurons with the ten highest R^2 values = [192  58 152 153 136  67 120 195  98 193]\n"
     ]
    }
   ],
   "source": [
    "d = 100  # Number of neurons to use\n",
    "# TODO\n",
    "# Isel = ...\n",
    "# print(\"The neurons with the ten highest R^2 values = ...)\n",
    "\n",
    "Isel = np.argsort(np.array(Rsq))[::-1][1:d+1]\n",
    "print(\"The neurons with the ten highest R^2 values =\",Isel[:10])"
   ]
  },
  {
   "cell_type": "markdown",
   "metadata": {},
   "source": [
    "Fit a model using only the `d` neurons selected in the previous step and print both the test RSS per sample and the normalized test RSS."
   ]
  },
  {
   "cell_type": "code",
   "execution_count": 152,
   "metadata": {},
   "outputs": [
    {
     "name": "stdout",
     "output_type": "stream",
     "text": [
      "RSS per sample = 0.001481\n",
      "RSS = 0.483083\n"
     ]
    },
    {
     "name": "stderr",
     "output_type": "stream",
     "text": [
      "/Users/Apple/anaconda3/lib/python3.6/site-packages/sklearn/model_selection/_split.py:2010: FutureWarning: From version 0.21, test_size will always complement train_size unless both are specified.\n",
      "  FutureWarning)\n"
     ]
    }
   ],
   "source": [
    "# TODO\n",
    "from sklearn.model_selection import train_test_split\n",
    "Xnew = mat_dict['spikes'].T[:,Isel]\n",
    "Xtr1, Xts1, ytr1, yts1=train_test_split(Xnew, y0, train_size=0.5)\n",
    "\n",
    "regr.fit(Xtr1, ytr1)\n",
    "y_ts1_pred = regr.predict(Xts1)\n",
    "RSS_per_sample=np.mean((yts1-y_ts1_pred)**2)\n",
    "RSS_ts1 = np.mean((yts1-y_ts1_pred)**2)/(np.std(yts1)**2)\n",
    "print(\"RSS per sample = {0:f}\".format(RSS_per_sample))\n",
    "print(\"RSS = {0:f}\".format(RSS_ts1))\n"
   ]
  },
  {
   "cell_type": "markdown",
   "metadata": {},
   "source": [
    "Create a scatter plot of the predicted vs. actual hand motion on the test data.  On the same plot, plot the line where `yts_hat = yts`."
   ]
  },
  {
   "cell_type": "code",
   "execution_count": 173,
   "metadata": {},
   "outputs": [
    {
     "data": {
      "image/png": "[encoded data removed]",
      "text/plain": [
       "<matplotlib.figure.Figure at 0x14658a4e0>"
      ]
     },
     "metadata": {},
     "output_type": "display_data"
    }
   ],
   "source": [
    "# TODO\n",
    "\n",
    "plt.scatter(yts1,y_ts1_pred)\n",
    "plt.plot([-0.3,0.3],[-0.3,0.3],'r')\n",
    "plt.xlabel('Actual')\n",
    "plt.ylabel('Predicted')\n",
    "plt.grid()"
   ]
  },
  {
   "cell_type": "markdown",
   "metadata": {},
   "source": [
    "## Using K-fold cross validation for the optimal number of neurons\n",
    "\n",
    "In the above, we fixed `d=100`.  We can use cross validation to try to determine the best number of neurons to use.  Try model orders with `d=10,20,...,190`.  For each value of `d`, use K-fold validation with 10 folds to estimate the test RSS.  For a data set this size, each fold will take a few seconds to compute, so it may be useful to print the progress."
   ]
  },
  {
   "cell_type": "code",
   "execution_count": 191,
   "metadata": {},
   "outputs": [],
   "source": [
    "import  sklearn.model_selection \n",
    "\n",
    "# Create a k-fold object\n",
    "nfold = 10\n",
    "kf = sklearn.model_selection.KFold(n_splits=nfold,shuffle=True)\n",
    "\n",
    "# Model orders to be tested\n",
    "dtest = np.arange(10,200,10)\n",
    "nd = len(dtest)\n",
    "\n",
    "# TODO. \n",
    "RSSts = np.zeros((nd,nfold))\n",
    "for fold_index, indices in enumerate(kf.split(X0)):\n",
    "    train_index, test_index = indices\n",
    "    \n",
    "    xtr = X0[train_index]\n",
    "    ytr = y0[train_index]\n",
    "    xts = X0[test_index]\n",
    "    yts = y0[test_index]\n",
    "    \n",
    "    for it, d in enumerate(dtest):\n",
    "        Isel = np.argsort(-Rsq)[0:d]\n",
    "        Isel1 = Isel[np.argsort(Isel)]\n",
    "        xtr1=xtr[:,Isel1]\n",
    "        xts1=xts[:,Isel1]\n",
    "        beta_hat = regr.fit(xtr1,ytr)\n",
    "        \n",
    "        yhat = regr.predict(xts1)\n",
    "        RSSts[it,fold_index] = np.mean((yhat-yts)**2)\n"
   ]
  },
  {
   "cell_type": "markdown",
   "metadata": {},
   "source": [
    "Compute the RSS test mean and standard error and plot them as a function of the model order `d` using the `plt.errorbar()` method. "
   ]
  },
  {
   "cell_type": "code",
   "execution_count": 193,
   "metadata": {
    "scrolled": true
   },
   "outputs": [
    {
     "data": {
      "image/png": "[encoded data removed]",
      "text/plain": [
       "<matplotlib.figure.Figure at 0x10d768dd8>"
      ]
     },
     "metadata": {},
     "output_type": "display_data"
    }
   ],
   "source": [
    "# TODO\n",
    "RSS_mean = np.mean(RSSts, axis=1)\n",
    "RSS_std = np.std(RSSts,axis=1)/np.sqrt(nfold-1)\n",
    "plt.errorbar(dtest,RSS_mean,yerr=RSS_std,fmt='o-')\n",
    "plt.ylim(0.0014,0.002)\n",
    "plt.xlabel('model order')\n",
    "plt.ylabel('test RSS')\n",
    "plt.grid()"
   ]
  },
  {
   "cell_type": "markdown",
   "metadata": {},
   "source": [
    "Find the optimal order using the one standard error rule. Print the optimal value of `d` and the mean test RSS per sample at the optimal `d`.  "
   ]
  },
  {
   "cell_type": "code",
   "execution_count": 195,
   "metadata": {},
   "outputs": [
    {
     "name": "stdout",
     "output_type": "stream",
     "text": [
      "The selected model order is 100\n",
      "0.00150824940466\n"
     ]
    },
    {
     "data": {
      "image/png": "[encoded data removed]",
      "text/plain": [
       "<matplotlib.figure.Figure at 0x1100f5828>"
      ]
     },
     "metadata": {},
     "output_type": "display_data"
    }
   ],
   "source": [
    "# TODO\n",
    "imin = np.argmin(RSS_mean)\n",
    "\n",
    "RSS_tgt = RSS_mean[imin] + RSS_std[imin]\n",
    "\n",
    "I = np.where(RSS_mean <= RSS_tgt)[0]\n",
    "iopt = I[0]\n",
    "dopt = dtest[iopt]\n",
    "plt.errorbar(dtest, RSS_mean, yerr=RSS_std, fmt='o-')\n",
    "plt.plot([dtest[0],dtest[imin]], [RSS_tgt, RSS_tgt], '--')\n",
    "plt.plot([dopt,dopt], [0.0014,0.0016], 'g--')\n",
    "plt.ylim(0.0014,0.002)\n",
    "plt.xlabel('Model order')\n",
    "plt.ylabel('Test RSS')\n",
    "plt.grid()\n",
    "print(\"The selected model order is {0:d}\".format(dopt))\n",
    "print(RSS_tgt)"
   ]
  },
  {
   "cell_type": "markdown",
   "metadata": {},
   "source": [
    "## Using LASSO regression\n",
    "\n",
    "Instead of using the above heuristic to select the variables, we can use LASSO regression.  \n",
    "\n",
    "First use the `preprocessing.scale` method to standardize the data matrix `X0`.  Store the standardized values in `Xs`.  You do not need to standardize the response.  For this data, the `scale` routine may throw a warning that you are converting data types.  That is fine."
   ]
  },
  {
   "cell_type": "code",
   "execution_count": 157,
   "metadata": {
    "scrolled": true
   },
   "outputs": [
    {
     "name": "stderr",
     "output_type": "stream",
     "text": [
      "/Users/Apple/anaconda3/lib/python3.6/site-packages/sklearn/utils/validation.py:444: DataConversionWarning: Data with input dtype uint8 was converted to float64 by the scale function.\n",
      "  warnings.warn(msg, DataConversionWarning)\n"
     ]
    }
   ],
   "source": [
    "from sklearn import preprocessing\n",
    "\n",
    "# TODO\n",
    "Xs = sklearn.preprocessing.scale(X0)"
   ]
  },
  {
   "cell_type": "markdown",
   "metadata": {},
   "source": [
    "Now, use the LASSO method to fit a model.  Use cross validation to select the regularization level `alpha`.  Use `alpha` values logarithmically spaced from `1e-5` to `0.1`, and use 10 fold cross validation.  "
   ]
  },
  {
   "cell_type": "code",
   "execution_count": 197,
   "metadata": {},
   "outputs": [],
   "source": [
    "# TODO\n",
    "# Create a k-fold cross validation object\n",
    "nfold = 10\n",
    "kf = sklearn.model_selection.KFold(n_splits=nfold,shuffle=True)\n",
    "\n",
    "# Create the LASSO model.  We use the `warm start` parameter so that the fit will start at the previous value.\n",
    "# This speeds up the fitting.\n",
    "model = sklearn.linear_model.Lasso(warm_start=True)\n",
    "\n",
    "# Regularization values to test\n",
    "nalpha = 100\n",
    "alphas = np.logspace(-5,-1,nalpha)\n",
    "\n",
    "# MSE for each alpha and fold value\n",
    "mse = np.zeros((nalpha,nfold))\n",
    "for ifold, ind in enumerate(kf.split(X0)):\n",
    "    \n",
    "    \n",
    "    # Get the training data in the split\n",
    "    Itr,Its = ind\n",
    "    X_tr2 = X0[Itr,:]\n",
    "    y_tr2 = y0[Itr]\n",
    "    X_ts2 = X0[Its,:]\n",
    "    y_ts2 = y0[Its]\n",
    "    \n",
    "    # Compute the lasso path for the split\n",
    "    for ia, a in enumerate(alphas):\n",
    "        \n",
    "        # Fit the model on the training data\n",
    "        model.alpha = a\n",
    "        model.fit(X_tr2,y_tr2)\n",
    "        \n",
    "        # Compute the prediction error on the test data\n",
    "        y_ts2_pred = model.predict(X_ts2)\n",
    "        mse[ia,ifold] = np.mean((y_ts2_pred-y_ts2)**2)\n"
   ]
  },
  {
   "cell_type": "markdown",
   "metadata": {},
   "source": [
    "Plot the mean test RSS and test RSS standard error with the `plt.errorbar` plot."
   ]
  },
  {
   "cell_type": "code",
   "execution_count": 198,
   "metadata": {},
   "outputs": [
    {
     "data": {
      "image/png": "[encoded data removed]",
      "text/plain": [
       "<matplotlib.figure.Figure at 0x145fe1550>"
      ]
     },
     "metadata": {},
     "output_type": "display_data"
    }
   ],
   "source": [
    "# TODO\n",
    "mse_mean = np.mean(mse,axis=1)\n",
    "mse_std = np.std(mse,axis=1) / np.sqrt(nfold-1)\n",
    "# plt.errorbar(alphas,mse_mean,yerr=mse_std,fmt='-')\n",
    "# plt.xlabel('model order')\n",
    "# plt.ylabel('test RSS')\n",
    "# plt.grid()\n",
    "plt.semilogx(alphas, mse_mean)\n",
    "plt.semilogx(alphas, mse_mean+mse_std)\n",
    "plt.legend(['Mean MSE', 'Mean MSE+1 SE'],loc='upper left')\n",
    "plt.xlabel('alpha')\n",
    "plt.ylabel('Test MSE')\n",
    "plt.grid()\n",
    "plt.show()"
   ]
  },
  {
   "cell_type": "markdown",
   "metadata": {},
   "source": [
    "Find the optimal `alpha` and mean test RSS using the one standard error rule."
   ]
  },
  {
   "cell_type": "code",
   "execution_count": 199,
   "metadata": {},
   "outputs": [
    {
     "name": "stdout",
     "output_type": "stream",
     "text": [
      "Optimal alpha = 0.000498, mean test RSS = 0.001511\n"
     ]
    }
   ],
   "source": [
    "# TODO\n",
    "imin = np.argmin(mse_mean)\n",
    "mse_tgt = mse_mean[imin] + mse_std[imin]\n",
    "alpha_min = alphas[imin]\n",
    "\n",
    "I = np.where(mse_mean < mse_tgt)[0]\n",
    "iopt = I[-1]\n",
    "alpha_opt = alphas[iopt]\n",
    "mse_mean_alpha_opt = mse_mean[iopt]\n",
    "print(\"Optimal alpha = %f, mean test RSS = %f\" % (alpha_opt, mse_mean_alpha_opt))"
   ]
  },
  {
   "cell_type": "markdown",
   "metadata": {},
   "source": [
    "Using the optimal alpha, recompute the predicted response variable on the whole data.  Plot the predicted vs. actual values."
   ]
  },
  {
   "cell_type": "code",
   "execution_count": 200,
   "metadata": {},
   "outputs": [
    {
     "name": "stdout",
     "output_type": "stream",
     "text": [
      "Normalized RSS = 0.479280\n"
     ]
    }
   ],
   "source": [
    "# TODO\n",
    "model.alpha = alpha_opt\n",
    "model.fit(X0,y0)\n",
    "ypred = model.predict(X0)\n",
    "RSS = np.mean((ypred-y0)**2)/(np.std(y0)**2)\n",
    "print(\"Normalized RSS = %f\" % RSS)"
   ]
  },
  {
   "cell_type": "code",
   "execution_count": 202,
   "metadata": {
    "scrolled": true
   },
   "outputs": [
    {
     "data": {
      "image/png": "[encoded data removed]",
      "text/plain": [
       "<matplotlib.figure.Figure at 0x149c907f0>"
      ]
     },
     "metadata": {},
     "output_type": "display_data"
    }
   ],
   "source": [
    "plt.scatter(y0,ypred)\n",
    "plt.plot([-0.3,0.3],[-0.3,0.3],'r')\n",
    "plt.xlabel('Actual')\n",
    "plt.ylabel('Predicted')\n",
    "plt.grid()"
   ]
  },
  {
   "cell_type": "markdown",
   "metadata": {},
   "source": [
    "## More Fun\n",
    "\n",
    "You can play around with this and many other neural data sets.  Two things that one can do to further improve the quality of fit are:\n",
    "* Use more time lags in the data.  Instead of predicting the hand motion from the spikes in the previous time, use the spikes in the last few delays.\n",
    "* Add a nonlinearity.  You should see that the predicted hand motion differs from the actual for high values of the actual.  You can improve the fit by adding a nonlinearity on the output.  A polynomial fit would work well here.\n",
    "\n",
    "You do not need to do these, but you can try them if you like."
   ]
  },
  {
   "cell_type": "code",
   "execution_count": null,
   "metadata": {
    "collapsed": true
   },
   "outputs": [],
   "source": []
  }
 ],
 "metadata": {
  "anaconda-cloud": {},
  "kernelspec": {
   "display_name": "Python 3",
   "language": "python",
   "name": "python3"
  },
  "language_info": {
   "codemirror_mode": {
    "name": "ipython",
    "version": 3
   },
   "file_extension": ".py",
   "mimetype": "text/x-python",
   "name": "python",
   "nbconvert_exporter": "python",
   "pygments_lexer": "ipython3",
   "version": "3.6.1"
  }
 },
 "nbformat": 4,
 "nbformat_minor": 1
}
