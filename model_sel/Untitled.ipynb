{
 "cells": [
  {
   "cell_type": "code",
   "execution_count": 7,
   "metadata": {},
   "outputs": [
    {
     "data": {
      "text/plain": [
       "<matplotlib.text.Text at 0x1110bf7b8>"
      ]
     },
     "execution_count": 7,
     "metadata": {},
     "output_type": "execute_result"
    }
   ],
   "source": [
    "import numpy as np\n",
    "import matplotlib\n",
    "import matplotlib.pyplot as plt\n",
    "from sklearn import datasets, linear_model, preprocessing\n",
    "import numpy.polynomial.polynomial as poly\n",
    "\n",
    "beta = np.array([1,2,-1])\n",
    "wstd = 0\n",
    "dtrue = len(beta)-1\n",
    "\n",
    "nsamp = 10\n",
    "xdat = np.random.uniform(0,1,nsamp)\n",
    "\n",
    "y0 = poly.polyval(xdat,beta)\n",
    "ydat = y0 + np.random.normal(0,wstd,nsamp)\n",
    "\n",
    "d = 1\n",
    "beta_hat = poly.polyfit(xdat,ydat,d)\n",
    "\n",
    "xp = np.linspace(0,3,100)\n",
    "yp = poly.polyval(xp,beta)\n",
    "yp_hat = poly.polyval(xp,beta_hat)\n",
    "plt.xlim(0,3)\n",
    "plt.plot(xp,yp,'r-',linewidth=2)\n",
    "plt.plot(xp,yp_hat,'g-',linewidth=2)\n",
    "\n",
    "plt.scatter(xdat,ydat)\n",
    "plt.legend(['True (dtrue=3)', 'Est (d=3)', 'Data'], loc='upper left')\n",
    "plt.grid()\n",
    "plt.xlabel('x')\n",
    "plt.ylabel('y')"
   ]
  },
  {
   "cell_type": "code",
   "execution_count": null,
   "metadata": {
    "collapsed": true
   },
   "outputs": [],
   "source": []
  }
 ],
 "metadata": {
  "kernelspec": {
   "display_name": "Python 3",
   "language": "python",
   "name": "python3"
  },
  "language_info": {
   "codemirror_mode": {
    "name": "ipython",
    "version": 3
   },
   "file_extension": ".py",
   "mimetype": "text/x-python",
   "name": "python",
   "nbconvert_exporter": "python",
   "pygments_lexer": "ipython3",
   "version": "3.6.1"
  }
 },
 "nbformat": 4,
 "nbformat_minor": 2
}
